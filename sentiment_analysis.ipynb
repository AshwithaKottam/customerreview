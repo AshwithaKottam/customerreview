
{
 "cells": [
  {
   "cell_type": "markdown",
   "metadata": {},
   "source": [
    "# 📊 Customer Review Sentiment Analysis\n",
    "This notebook walks through loading customer reviews, cleaning them, and predicting sentiment using basic AI (machine learning)."
   ]
  },
  {
   "cell_type": "code",
   "execution_count": null,
   "metadata": {},
   "outputs": [],
   "source": [
    "# 📦 Step 1: Install and import libraries\n",
    "!pip install pandas numpy matplotlib seaborn scikit-learn textblob nltk --quiet\n",
    "import pandas as pd\n",
    "import numpy as np\n",
    "import matplotlib.pyplot as plt\n",
    "import seaborn as sns\n",
    "from textblob import TextBlob\n",
    "import nltk\n",
    "nltk.download('punkt')"
   ]
  },
  {
   "cell_type": "code",
   "execution_count": null,
   "metadata": {},
   "outputs": [],
   "source": [
  
    "data = pd.DataFrame({\n",
    "    'review': [\n",
    "        'I love this product! It works great.',\n",
    "        'Terrible service. I want a refund.',\n",
    "        'It’s okay, not the best but not the worst.',\n",
    "        'Amazing experience! Will buy again.',\n",
    "        'Worst purchase I have ever made.'\n",
    "    ]\n",
    "})\n",
    "data.head()"
   ]
  },
  {
   "cell_type": "code",
   "execution_count": null,
   "metadata": {},
   "outputs": [],
   "source": [
    "# 🧠 Step 3: Use TextBlob to get sentiment polarity\n",
    "def get_sentiment(text):\n",
    "    analysis = TextBlob(text)\n",
    "    polarity = analysis.sentiment.polarity\n",
    "    if polarity > 0:\n",
    "        return 'Positive'\n",
    "    elif polarity < 0:\n",
    "        return 'Negative'\n",
    "    else:\n",
    "        return 'Neutral'\n",
    "\n",
    "data['sentiment'] = data['review'].apply(get_sentiment)\n",
    "data"
   ]
  },
  {
   "cell_type": "code",
   "execution_count": null,
   "metadata": {},
   "outputs": [],
   "source": [
    "# 📊 Step 4: Visualize sentiment distribution\n",
    "sns.countplot(x='sentiment', data=data, palette='Set2')\n",
    "plt.title('Sentiment Distribution')\n",
    "plt.show()"
   ]
  }
 ],
 "metadata": {
  "kernelspec": {
   "display_name": "Python 3",
   "language": "python",
   "name": "python3"
  },
  "language_info": {
   "name": "python",
   "version": ""
  }
 },
 "nbformat": 4,
 "nbformat_minor": 4
}
